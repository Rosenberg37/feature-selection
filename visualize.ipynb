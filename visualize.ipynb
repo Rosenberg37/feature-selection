{
 "cells": [
  {
   "cell_type": "code",
   "execution_count": null,
   "metadata": {
    "collapsed": true,
    "pycharm": {
     "name": "#%%\n",
     "is_executing": true
    }
   },
   "outputs": [],
   "source": [
    "import multiprocessing\n",
    "\n",
    "import matplotlib.pyplot as plt\n",
    "import numpy\n",
    "\n",
    "from model import feature_selection_with_nsga2, get_toolbox\n",
    "\n",
    "model_name = 'J48'\n",
    "dataset_name = 'vehicle'"
   ]
  },
  {
   "cell_type": "code",
   "execution_count": null,
   "outputs": [
    {
     "name": "stderr",
     "output_type": "stream",
     "text": [
      "Generation 52/100:|█████▏    |[36:28<1:44:24,130.51s/it]"
     ]
    }
   ],
   "source": [
    "with multiprocessing.Pool() as pool:\n",
    "    toolbox = get_toolbox(model_name, dataset_name, pool)\n",
    "    pop, logbook = feature_selection_with_nsga2(toolbox)"
   ],
   "metadata": {
    "collapsed": false,
    "pycharm": {
     "name": "#%%\n",
     "is_executing": true
    }
   }
  },
  {
   "cell_type": "code",
   "execution_count": null,
   "outputs": [],
   "source": [
    "pop.sort(key=lambda x: x.fitness.values[0] * 10 + x.fitness.values[1], reverse=True)\n",
    "\n",
    "accuracy = pop[0].fitness.values[0]\n",
    "dim_reduction = pop[0].fitness.values[1]\n",
    "print(f\"Dimension reduction: {dim_reduction}\")\n",
    "print(f\"Accuracy: {accuracy}\\n\")"
   ],
   "metadata": {
    "collapsed": false,
    "pycharm": {
     "name": "#%%\n",
     "is_executing": true
    }
   }
  },
  {
   "cell_type": "code",
   "execution_count": null,
   "outputs": [],
   "source": [
    "front = numpy.array([ind.fitness.values for ind in pop])\n",
    "plt.title('Optimal front derived with NSGA-II', fontsize=12)\n",
    "\n",
    "accuracy = list(map(lambda x: x[0], front))\n",
    "dim_reduction = list(map(lambda x: x[1], front))\n",
    "plt.scatter(dim_reduction, accuracy, c=\"b\")\n",
    "plt.scatter(dim_reduction[0], accuracy[0], c=\"r\")\n",
    "plt.xlabel('DR(%)')\n",
    "plt.ylabel('Accuracy(%)')\n",
    "\n",
    "plt.tight_layout()\n",
    "plt.show()"
   ],
   "metadata": {
    "collapsed": false,
    "pycharm": {
     "name": "#%%\n",
     "is_executing": true
    }
   }
  },
  {
   "cell_type": "code",
   "execution_count": null,
   "outputs": [],
   "source": [
    "print(logbook.stream)"
   ],
   "metadata": {
    "collapsed": false,
    "pycharm": {
     "name": "#%%\n",
     "is_executing": true
    }
   }
  }
 ],
 "metadata": {
  "kernelspec": {
   "display_name": "Python 3",
   "language": "python",
   "name": "python3"
  },
  "language_info": {
   "codemirror_mode": {
    "name": "ipython",
    "version": 2
   },
   "file_extension": ".py",
   "mimetype": "text/x-python",
   "name": "python",
   "nbconvert_exporter": "python",
   "pygments_lexer": "ipython2",
   "version": "2.7.6"
  }
 },
 "nbformat": 4,
 "nbformat_minor": 0
}